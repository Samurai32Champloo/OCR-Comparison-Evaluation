{
 "cells": [
  {
   "metadata": {},
   "cell_type": "raw",
   "source": "",
   "id": "7128d08c36273b75"
  },
  {
   "metadata": {
    "ExecuteTime": {
     "end_time": "2025-01-04T19:10:20.187271Z",
     "start_time": "2025-01-04T19:10:14.909711Z"
    }
   },
   "cell_type": "code",
   "source": [
    "import os\n",
    "from pathlib import Path\n",
    "from PIL import Image\n",
    "import pytesseract\n",
    "from pdf2image import convert_from_path\n",
    "import doctr\n",
    "from doctr.io import DocumentFile\n",
    "from doctr.models import ocr_predictor\n",
    "import easyocr\n",
    "import numpy as np\n",
    "import pandas as pd\n",
    "from pathlib import Path\n",
    "from Levenshtein import distance as levenshtein_distance\n",
    "import PyPDF2\n",
    "from datetime import datetime\n",
    "\n",
    "# Geben Sie den Pfad zu den Poppler-Binaries an\n",
    "poppler_path = r'C:\\poppler-24.08.0\\Library\\bin'\n",
    "\n",
    "# Set the TESSDATA_PREFIX environment variable\n",
    "os.environ['TESSDATA_PREFIX'] = r'C:\\Program Files\\Tesseract-OCR\\tessdata'\n",
    "\n",
    "# Geben Sie den Pfad zur Tesseract-Ausführungsdatei an\n",
    "pytesseract.pytesseract.tesseract_cmd = r'C:\\Program Files\\Tesseract-OCR\\tesseract.exe'\n",
    "\n",
    "# Initialisiere den OCR Predictor von docTR\n",
    "ocr_model = ocr_predictor('db_resnet50', 'master', pretrained=True)\n",
    "\n",
    "# Initialisiere den EasyOCR-Reader für die deutsche Sprache\n",
    "reader = easyocr.Reader(['de'])\n"
   ],
   "id": "efb935fa3bb54e7d",
   "outputs": [
    {
     "name": "stderr",
     "output_type": "stream",
     "text": [
      "C:\\Users\\O6819\\Entwicklung\\Transferlesitung6\\.venv\\Lib\\site-packages\\tqdm\\auto.py:21: TqdmWarning: IProgress not found. Please update jupyter and ipywidgets. See https://ipywidgets.readthedocs.io/en/stable/user_install.html\n",
      "  from .autonotebook import tqdm as notebook_tqdm\n",
      "C:\\Users\\O6819\\Entwicklung\\Transferlesitung6\\.venv\\Lib\\site-packages\\doctr\\models\\utils\\pytorch.py:59: FutureWarning: You are using `torch.load` with `weights_only=False` (the current default value), which uses the default pickle module implicitly. It is possible to construct malicious pickle data which will execute arbitrary code during unpickling (See https://github.com/pytorch/pytorch/blob/main/SECURITY.md#untrusted-models for more details). In a future release, the default value for `weights_only` will be flipped to `True`. This limits the functions that could be executed during unpickling. Arbitrary objects will no longer be allowed to be loaded via this mode unless they are explicitly allowlisted by the user via `torch.serialization.add_safe_globals`. We recommend you start setting `weights_only=True` for any use case where you don't have full control of the loaded file. Please open an issue on GitHub for any issues related to this experimental feature.\n",
      "  state_dict = torch.load(archive_path, map_location=\"cpu\")\n",
      "WARNING:easyocr.easyocr:Neither CUDA nor MPS are available - defaulting to CPU. Note: This module is much faster with a GPU.\n"
     ]
    }
   ],
   "execution_count": 44
  },
  {
   "metadata": {
    "ExecuteTime": {
     "end_time": "2025-01-04T19:10:33.079299Z",
     "start_time": "2025-01-04T19:10:33.075294Z"
    }
   },
   "cell_type": "code",
   "source": [
    "# Definieren der Verzeichnisse für Eingabe, Ground Truth und Ausgaben\n",
    "# Hinweis: Die Verzeichnisse müssen an Ihre Umgebung angepasst werden\n",
    "\n",
    "# Eingabeverzeichnis für die Verarbeitung\n",
    "input_folder = Path(\"C:/Users/Transferleistung6/Input_PDF\")\n",
    "\n",
    "# Referenzverzeichnis mit Ground Truth zum Testen\n",
    "reference_folder = \"C:/UsersTransferleistung6/Ground Truth_txt\"\n",
    "\n",
    "# Erstes Ausgabeverzeichnis zum Speichern der Ergebnisse: Tesseract\n",
    "output_folder_Tesseract_txt = \"C:/Users/Transferleistung6/Output_OCR_txt_Tesseract\"\n",
    "\n",
    "# Zweites Ausgabeverzeichnis zum Speichern der Ergebnisse: docTR\n",
    "output_folder_docTR_txt = \"C:/Users/Transferleistung6/Output_OCT_txt_docTR\"\n",
    "\n",
    "# Drittes Ausgabeverzeichnis zum Speichern der Ergebnisse: easyocr\n",
    "output_folder_easyocr_txt = \"C:/Users/Transferleistung6/Output_OCR_txt_EasyOCR\""
   ],
   "id": "d20b179eeacea5b7",
   "outputs": [],
   "execution_count": 45
  },
  {
   "metadata": {},
   "cell_type": "markdown",
   "source": "Verarbeitung von PDF-Dateien mit Tesseract:",
   "id": "a447a0ceb6c31770"
  },
  {
   "metadata": {
    "ExecuteTime": {
     "end_time": "2024-12-10T10:42:27.250623Z",
     "start_time": "2024-12-10T10:42:23.898356Z"
    }
   },
   "cell_type": "code",
   "source": [
    "# Iterate over all PDF files in the directory\n",
    "files = input_folder.rglob('*.pdf')\n",
    "\n",
    "for file in files:\n",
    "    # Convert PDF pages to images\n",
    "    images = convert_from_path(file, poppler_path=poppler_path)\n",
    "    extracted_text = \"\"\n",
    "\n",
    "    for image in images:\n",
    "        # Extract text from each image with German language setting\n",
    "        extracted_text += pytesseract.image_to_string(image, lang='deu') + \"\\n\"\n",
    "\n",
    "    # Save the extracted text to a .txt file\n",
    "    output_file = Path(output_folder_Tesseract_txt) / file.name.replace('.pdf', '.txt')\n",
    "    with open(output_file, 'w', encoding='utf-8') as text_file:\n",
    "        text_file.write(extracted_text)\n",
    "\n",
    "    print(f\"Extracted text saved in {output_file}\")"
   ],
   "id": "75f85df5b1316574",
   "outputs": [
    {
     "ename": "KeyboardInterrupt",
     "evalue": "",
     "output_type": "error",
     "traceback": [
      "\u001B[1;31m---------------------------------------------------------------------------\u001B[0m",
      "\u001B[1;31mKeyboardInterrupt\u001B[0m                         Traceback (most recent call last)",
      "Cell \u001B[1;32mIn[48], line 11\u001B[0m\n\u001B[0;32m      7\u001B[0m extracted_text \u001B[38;5;241m=\u001B[39m \u001B[38;5;124m\"\u001B[39m\u001B[38;5;124m\"\u001B[39m\n\u001B[0;32m      9\u001B[0m \u001B[38;5;28;01mfor\u001B[39;00m image \u001B[38;5;129;01min\u001B[39;00m images:\n\u001B[0;32m     10\u001B[0m     \u001B[38;5;66;03m# Extract text from each image with German language setting\u001B[39;00m\n\u001B[1;32m---> 11\u001B[0m     extracted_text \u001B[38;5;241m+\u001B[39m\u001B[38;5;241m=\u001B[39m \u001B[43mpytesseract\u001B[49m\u001B[38;5;241;43m.\u001B[39;49m\u001B[43mimage_to_string\u001B[49m\u001B[43m(\u001B[49m\u001B[43mimage\u001B[49m\u001B[43m,\u001B[49m\u001B[43m \u001B[49m\u001B[43mlang\u001B[49m\u001B[38;5;241;43m=\u001B[39;49m\u001B[38;5;124;43m'\u001B[39;49m\u001B[38;5;124;43mdeu\u001B[39;49m\u001B[38;5;124;43m'\u001B[39;49m\u001B[43m)\u001B[49m \u001B[38;5;241m+\u001B[39m \u001B[38;5;124m\"\u001B[39m\u001B[38;5;130;01m\\n\u001B[39;00m\u001B[38;5;124m\"\u001B[39m\n\u001B[0;32m     13\u001B[0m \u001B[38;5;66;03m# Save the extracted text to a .txt file\u001B[39;00m\n\u001B[0;32m     14\u001B[0m output_file \u001B[38;5;241m=\u001B[39m Path(output_folder_Tesseract_txt) \u001B[38;5;241m/\u001B[39m file\u001B[38;5;241m.\u001B[39mname\u001B[38;5;241m.\u001B[39mreplace(\u001B[38;5;124m'\u001B[39m\u001B[38;5;124m.pdf\u001B[39m\u001B[38;5;124m'\u001B[39m, \u001B[38;5;124m'\u001B[39m\u001B[38;5;124m.txt\u001B[39m\u001B[38;5;124m'\u001B[39m)\n",
      "File \u001B[1;32m~\\Entwicklung\\Transferlesitung6\\.venv\\Lib\\site-packages\\pytesseract\\pytesseract.py:486\u001B[0m, in \u001B[0;36mimage_to_string\u001B[1;34m(image, lang, config, nice, output_type, timeout)\u001B[0m\n\u001B[0;32m    481\u001B[0m \u001B[38;5;250m\u001B[39m\u001B[38;5;124;03m\"\"\"\u001B[39;00m\n\u001B[0;32m    482\u001B[0m \u001B[38;5;124;03mReturns the result of a Tesseract OCR run on the provided image to string\u001B[39;00m\n\u001B[0;32m    483\u001B[0m \u001B[38;5;124;03m\"\"\"\u001B[39;00m\n\u001B[0;32m    484\u001B[0m args \u001B[38;5;241m=\u001B[39m [image, \u001B[38;5;124m'\u001B[39m\u001B[38;5;124mtxt\u001B[39m\u001B[38;5;124m'\u001B[39m, lang, config, nice, timeout]\n\u001B[1;32m--> 486\u001B[0m \u001B[38;5;28;01mreturn\u001B[39;00m \u001B[43m{\u001B[49m\n\u001B[0;32m    487\u001B[0m \u001B[43m    \u001B[49m\u001B[43mOutput\u001B[49m\u001B[38;5;241;43m.\u001B[39;49m\u001B[43mBYTES\u001B[49m\u001B[43m:\u001B[49m\u001B[43m \u001B[49m\u001B[38;5;28;43;01mlambda\u001B[39;49;00m\u001B[43m:\u001B[49m\u001B[43m \u001B[49m\u001B[43mrun_and_get_output\u001B[49m\u001B[43m(\u001B[49m\u001B[38;5;241;43m*\u001B[39;49m\u001B[43m(\u001B[49m\u001B[43margs\u001B[49m\u001B[43m \u001B[49m\u001B[38;5;241;43m+\u001B[39;49m\u001B[43m \u001B[49m\u001B[43m[\u001B[49m\u001B[38;5;28;43;01mTrue\u001B[39;49;00m\u001B[43m]\u001B[49m\u001B[43m)\u001B[49m\u001B[43m)\u001B[49m\u001B[43m,\u001B[49m\n\u001B[0;32m    488\u001B[0m \u001B[43m    \u001B[49m\u001B[43mOutput\u001B[49m\u001B[38;5;241;43m.\u001B[39;49m\u001B[43mDICT\u001B[49m\u001B[43m:\u001B[49m\u001B[43m \u001B[49m\u001B[38;5;28;43;01mlambda\u001B[39;49;00m\u001B[43m:\u001B[49m\u001B[43m \u001B[49m\u001B[43m{\u001B[49m\u001B[38;5;124;43m'\u001B[39;49m\u001B[38;5;124;43mtext\u001B[39;49m\u001B[38;5;124;43m'\u001B[39;49m\u001B[43m:\u001B[49m\u001B[43m \u001B[49m\u001B[43mrun_and_get_output\u001B[49m\u001B[43m(\u001B[49m\u001B[38;5;241;43m*\u001B[39;49m\u001B[43margs\u001B[49m\u001B[43m)\u001B[49m\u001B[43m}\u001B[49m\u001B[43m,\u001B[49m\n\u001B[0;32m    489\u001B[0m \u001B[43m    \u001B[49m\u001B[43mOutput\u001B[49m\u001B[38;5;241;43m.\u001B[39;49m\u001B[43mSTRING\u001B[49m\u001B[43m:\u001B[49m\u001B[43m \u001B[49m\u001B[38;5;28;43;01mlambda\u001B[39;49;00m\u001B[43m:\u001B[49m\u001B[43m \u001B[49m\u001B[43mrun_and_get_output\u001B[49m\u001B[43m(\u001B[49m\u001B[38;5;241;43m*\u001B[39;49m\u001B[43margs\u001B[49m\u001B[43m)\u001B[49m\u001B[43m,\u001B[49m\n\u001B[0;32m    490\u001B[0m \u001B[43m\u001B[49m\u001B[43m}\u001B[49m\u001B[43m[\u001B[49m\u001B[43moutput_type\u001B[49m\u001B[43m]\u001B[49m\u001B[43m(\u001B[49m\u001B[43m)\u001B[49m\n",
      "File \u001B[1;32m~\\Entwicklung\\Transferlesitung6\\.venv\\Lib\\site-packages\\pytesseract\\pytesseract.py:489\u001B[0m, in \u001B[0;36mimage_to_string.<locals>.<lambda>\u001B[1;34m()\u001B[0m\n\u001B[0;32m    481\u001B[0m \u001B[38;5;250m\u001B[39m\u001B[38;5;124;03m\"\"\"\u001B[39;00m\n\u001B[0;32m    482\u001B[0m \u001B[38;5;124;03mReturns the result of a Tesseract OCR run on the provided image to string\u001B[39;00m\n\u001B[0;32m    483\u001B[0m \u001B[38;5;124;03m\"\"\"\u001B[39;00m\n\u001B[0;32m    484\u001B[0m args \u001B[38;5;241m=\u001B[39m [image, \u001B[38;5;124m'\u001B[39m\u001B[38;5;124mtxt\u001B[39m\u001B[38;5;124m'\u001B[39m, lang, config, nice, timeout]\n\u001B[0;32m    486\u001B[0m \u001B[38;5;28;01mreturn\u001B[39;00m {\n\u001B[0;32m    487\u001B[0m     Output\u001B[38;5;241m.\u001B[39mBYTES: \u001B[38;5;28;01mlambda\u001B[39;00m: run_and_get_output(\u001B[38;5;241m*\u001B[39m(args \u001B[38;5;241m+\u001B[39m [\u001B[38;5;28;01mTrue\u001B[39;00m])),\n\u001B[0;32m    488\u001B[0m     Output\u001B[38;5;241m.\u001B[39mDICT: \u001B[38;5;28;01mlambda\u001B[39;00m: {\u001B[38;5;124m'\u001B[39m\u001B[38;5;124mtext\u001B[39m\u001B[38;5;124m'\u001B[39m: run_and_get_output(\u001B[38;5;241m*\u001B[39margs)},\n\u001B[1;32m--> 489\u001B[0m     Output\u001B[38;5;241m.\u001B[39mSTRING: \u001B[38;5;28;01mlambda\u001B[39;00m: \u001B[43mrun_and_get_output\u001B[49m\u001B[43m(\u001B[49m\u001B[38;5;241;43m*\u001B[39;49m\u001B[43margs\u001B[49m\u001B[43m)\u001B[49m,\n\u001B[0;32m    490\u001B[0m }[output_type]()\n",
      "File \u001B[1;32m~\\Entwicklung\\Transferlesitung6\\.venv\\Lib\\site-packages\\pytesseract\\pytesseract.py:352\u001B[0m, in \u001B[0;36mrun_and_get_output\u001B[1;34m(image, extension, lang, config, nice, timeout, return_bytes)\u001B[0m\n\u001B[0;32m    341\u001B[0m \u001B[38;5;28;01mwith\u001B[39;00m save(image) \u001B[38;5;28;01mas\u001B[39;00m (temp_name, input_filename):\n\u001B[0;32m    342\u001B[0m     kwargs \u001B[38;5;241m=\u001B[39m {\n\u001B[0;32m    343\u001B[0m         \u001B[38;5;124m'\u001B[39m\u001B[38;5;124minput_filename\u001B[39m\u001B[38;5;124m'\u001B[39m: input_filename,\n\u001B[0;32m    344\u001B[0m         \u001B[38;5;124m'\u001B[39m\u001B[38;5;124moutput_filename_base\u001B[39m\u001B[38;5;124m'\u001B[39m: temp_name,\n\u001B[1;32m   (...)\u001B[0m\n\u001B[0;32m    349\u001B[0m         \u001B[38;5;124m'\u001B[39m\u001B[38;5;124mtimeout\u001B[39m\u001B[38;5;124m'\u001B[39m: timeout,\n\u001B[0;32m    350\u001B[0m     }\n\u001B[1;32m--> 352\u001B[0m     \u001B[43mrun_tesseract\u001B[49m\u001B[43m(\u001B[49m\u001B[38;5;241;43m*\u001B[39;49m\u001B[38;5;241;43m*\u001B[39;49m\u001B[43mkwargs\u001B[49m\u001B[43m)\u001B[49m\n\u001B[0;32m    353\u001B[0m     \u001B[38;5;28;01mreturn\u001B[39;00m _read_output(\n\u001B[0;32m    354\u001B[0m         \u001B[38;5;124mf\u001B[39m\u001B[38;5;124m\"\u001B[39m\u001B[38;5;132;01m{\u001B[39;00mkwargs[\u001B[38;5;124m'\u001B[39m\u001B[38;5;124moutput_filename_base\u001B[39m\u001B[38;5;124m'\u001B[39m]\u001B[38;5;132;01m}\u001B[39;00m\u001B[38;5;132;01m{\u001B[39;00mextsep\u001B[38;5;132;01m}\u001B[39;00m\u001B[38;5;132;01m{\u001B[39;00mextension\u001B[38;5;132;01m}\u001B[39;00m\u001B[38;5;124m\"\u001B[39m,\n\u001B[0;32m    355\u001B[0m         return_bytes,\n\u001B[0;32m    356\u001B[0m     )\n",
      "File \u001B[1;32m~\\Entwicklung\\Transferlesitung6\\.venv\\Lib\\site-packages\\pytesseract\\pytesseract.py:282\u001B[0m, in \u001B[0;36mrun_tesseract\u001B[1;34m(input_filename, output_filename_base, extension, lang, config, nice, timeout)\u001B[0m\n\u001B[0;32m    279\u001B[0m     \u001B[38;5;28;01melse\u001B[39;00m:\n\u001B[0;32m    280\u001B[0m         \u001B[38;5;28;01mraise\u001B[39;00m TesseractNotFoundError()\n\u001B[1;32m--> 282\u001B[0m \u001B[43m\u001B[49m\u001B[38;5;28;43;01mwith\u001B[39;49;00m\u001B[43m \u001B[49m\u001B[43mtimeout_manager\u001B[49m\u001B[43m(\u001B[49m\u001B[43mproc\u001B[49m\u001B[43m,\u001B[49m\u001B[43m \u001B[49m\u001B[43mtimeout\u001B[49m\u001B[43m)\u001B[49m\u001B[43m \u001B[49m\u001B[38;5;28;43;01mas\u001B[39;49;00m\u001B[43m \u001B[49m\u001B[43merror_string\u001B[49m\u001B[43m:\u001B[49m\n\u001B[0;32m    283\u001B[0m \u001B[43m    \u001B[49m\u001B[38;5;28;43;01mif\u001B[39;49;00m\u001B[43m \u001B[49m\u001B[43mproc\u001B[49m\u001B[38;5;241;43m.\u001B[39;49m\u001B[43mreturncode\u001B[49m\u001B[43m:\u001B[49m\n\u001B[0;32m    284\u001B[0m \u001B[43m        \u001B[49m\u001B[38;5;28;43;01mraise\u001B[39;49;00m\u001B[43m \u001B[49m\u001B[43mTesseractError\u001B[49m\u001B[43m(\u001B[49m\u001B[43mproc\u001B[49m\u001B[38;5;241;43m.\u001B[39;49m\u001B[43mreturncode\u001B[49m\u001B[43m,\u001B[49m\u001B[43m \u001B[49m\u001B[43mget_errors\u001B[49m\u001B[43m(\u001B[49m\u001B[43merror_string\u001B[49m\u001B[43m)\u001B[49m\u001B[43m)\u001B[49m\n",
      "File \u001B[1;32m~\\AppData\\Local\\Programs\\Python\\Python312\\Lib\\contextlib.py:137\u001B[0m, in \u001B[0;36m_GeneratorContextManager.__enter__\u001B[1;34m(self)\u001B[0m\n\u001B[0;32m    135\u001B[0m \u001B[38;5;28;01mdel\u001B[39;00m \u001B[38;5;28mself\u001B[39m\u001B[38;5;241m.\u001B[39margs, \u001B[38;5;28mself\u001B[39m\u001B[38;5;241m.\u001B[39mkwds, \u001B[38;5;28mself\u001B[39m\u001B[38;5;241m.\u001B[39mfunc\n\u001B[0;32m    136\u001B[0m \u001B[38;5;28;01mtry\u001B[39;00m:\n\u001B[1;32m--> 137\u001B[0m     \u001B[38;5;28;01mreturn\u001B[39;00m \u001B[38;5;28;43mnext\u001B[39;49m\u001B[43m(\u001B[49m\u001B[38;5;28;43mself\u001B[39;49m\u001B[38;5;241;43m.\u001B[39;49m\u001B[43mgen\u001B[49m\u001B[43m)\u001B[49m\n\u001B[0;32m    138\u001B[0m \u001B[38;5;28;01mexcept\u001B[39;00m \u001B[38;5;167;01mStopIteration\u001B[39;00m:\n\u001B[0;32m    139\u001B[0m     \u001B[38;5;28;01mraise\u001B[39;00m \u001B[38;5;167;01mRuntimeError\u001B[39;00m(\u001B[38;5;124m\"\u001B[39m\u001B[38;5;124mgenerator didn\u001B[39m\u001B[38;5;124m'\u001B[39m\u001B[38;5;124mt yield\u001B[39m\u001B[38;5;124m\"\u001B[39m) \u001B[38;5;28;01mfrom\u001B[39;00m \u001B[38;5;28;01mNone\u001B[39;00m\n",
      "File \u001B[1;32m~\\Entwicklung\\Transferlesitung6\\.venv\\Lib\\site-packages\\pytesseract\\pytesseract.py:144\u001B[0m, in \u001B[0;36mtimeout_manager\u001B[1;34m(proc, seconds)\u001B[0m\n\u001B[0;32m    142\u001B[0m \u001B[38;5;28;01mtry\u001B[39;00m:\n\u001B[0;32m    143\u001B[0m     \u001B[38;5;28;01mif\u001B[39;00m \u001B[38;5;129;01mnot\u001B[39;00m seconds:\n\u001B[1;32m--> 144\u001B[0m         \u001B[38;5;28;01myield\u001B[39;00m \u001B[43mproc\u001B[49m\u001B[38;5;241;43m.\u001B[39;49m\u001B[43mcommunicate\u001B[49m\u001B[43m(\u001B[49m\u001B[43m)\u001B[49m[\u001B[38;5;241m1\u001B[39m]\n\u001B[0;32m    145\u001B[0m         \u001B[38;5;28;01mreturn\u001B[39;00m\n\u001B[0;32m    147\u001B[0m     \u001B[38;5;28;01mtry\u001B[39;00m:\n",
      "File \u001B[1;32m~\\AppData\\Local\\Programs\\Python\\Python312\\Lib\\subprocess.py:1209\u001B[0m, in \u001B[0;36mPopen.communicate\u001B[1;34m(self, input, timeout)\u001B[0m\n\u001B[0;32m   1206\u001B[0m     endtime \u001B[38;5;241m=\u001B[39m \u001B[38;5;28;01mNone\u001B[39;00m\n\u001B[0;32m   1208\u001B[0m \u001B[38;5;28;01mtry\u001B[39;00m:\n\u001B[1;32m-> 1209\u001B[0m     stdout, stderr \u001B[38;5;241m=\u001B[39m \u001B[38;5;28;43mself\u001B[39;49m\u001B[38;5;241;43m.\u001B[39;49m\u001B[43m_communicate\u001B[49m\u001B[43m(\u001B[49m\u001B[38;5;28;43minput\u001B[39;49m\u001B[43m,\u001B[49m\u001B[43m \u001B[49m\u001B[43mendtime\u001B[49m\u001B[43m,\u001B[49m\u001B[43m \u001B[49m\u001B[43mtimeout\u001B[49m\u001B[43m)\u001B[49m\n\u001B[0;32m   1210\u001B[0m \u001B[38;5;28;01mexcept\u001B[39;00m \u001B[38;5;167;01mKeyboardInterrupt\u001B[39;00m:\n\u001B[0;32m   1211\u001B[0m     \u001B[38;5;66;03m# https://bugs.python.org/issue25942\u001B[39;00m\n\u001B[0;32m   1212\u001B[0m     \u001B[38;5;66;03m# See the detailed comment in .wait().\u001B[39;00m\n\u001B[0;32m   1213\u001B[0m     \u001B[38;5;28;01mif\u001B[39;00m timeout \u001B[38;5;129;01mis\u001B[39;00m \u001B[38;5;129;01mnot\u001B[39;00m \u001B[38;5;28;01mNone\u001B[39;00m:\n",
      "File \u001B[1;32m~\\AppData\\Local\\Programs\\Python\\Python312\\Lib\\subprocess.py:1626\u001B[0m, in \u001B[0;36mPopen._communicate\u001B[1;34m(self, input, endtime, orig_timeout)\u001B[0m\n\u001B[0;32m   1622\u001B[0m \u001B[38;5;66;03m# Wait for the reader threads, or time out.  If we time out, the\u001B[39;00m\n\u001B[0;32m   1623\u001B[0m \u001B[38;5;66;03m# threads remain reading and the fds left open in case the user\u001B[39;00m\n\u001B[0;32m   1624\u001B[0m \u001B[38;5;66;03m# calls communicate again.\u001B[39;00m\n\u001B[0;32m   1625\u001B[0m \u001B[38;5;28;01mif\u001B[39;00m \u001B[38;5;28mself\u001B[39m\u001B[38;5;241m.\u001B[39mstdout \u001B[38;5;129;01mis\u001B[39;00m \u001B[38;5;129;01mnot\u001B[39;00m \u001B[38;5;28;01mNone\u001B[39;00m:\n\u001B[1;32m-> 1626\u001B[0m     \u001B[38;5;28;43mself\u001B[39;49m\u001B[38;5;241;43m.\u001B[39;49m\u001B[43mstdout_thread\u001B[49m\u001B[38;5;241;43m.\u001B[39;49m\u001B[43mjoin\u001B[49m\u001B[43m(\u001B[49m\u001B[38;5;28;43mself\u001B[39;49m\u001B[38;5;241;43m.\u001B[39;49m\u001B[43m_remaining_time\u001B[49m\u001B[43m(\u001B[49m\u001B[43mendtime\u001B[49m\u001B[43m)\u001B[49m\u001B[43m)\u001B[49m\n\u001B[0;32m   1627\u001B[0m     \u001B[38;5;28;01mif\u001B[39;00m \u001B[38;5;28mself\u001B[39m\u001B[38;5;241m.\u001B[39mstdout_thread\u001B[38;5;241m.\u001B[39mis_alive():\n\u001B[0;32m   1628\u001B[0m         \u001B[38;5;28;01mraise\u001B[39;00m TimeoutExpired(\u001B[38;5;28mself\u001B[39m\u001B[38;5;241m.\u001B[39margs, orig_timeout)\n",
      "File \u001B[1;32m~\\AppData\\Local\\Programs\\Python\\Python312\\Lib\\threading.py:1126\u001B[0m, in \u001B[0;36mThread.join\u001B[1;34m(self, timeout)\u001B[0m\n\u001B[0;32m   1123\u001B[0m     \u001B[38;5;28;01mraise\u001B[39;00m \u001B[38;5;167;01mRuntimeError\u001B[39;00m(\u001B[38;5;124m\"\u001B[39m\u001B[38;5;124mcannot join current thread\u001B[39m\u001B[38;5;124m\"\u001B[39m)\n\u001B[0;32m   1125\u001B[0m \u001B[38;5;28;01mif\u001B[39;00m timeout \u001B[38;5;129;01mis\u001B[39;00m \u001B[38;5;28;01mNone\u001B[39;00m:\n\u001B[1;32m-> 1126\u001B[0m     \u001B[38;5;28;43mself\u001B[39;49m\u001B[38;5;241;43m.\u001B[39;49m\u001B[43m_wait_for_tstate_lock\u001B[49m\u001B[43m(\u001B[49m\u001B[43m)\u001B[49m\n\u001B[0;32m   1127\u001B[0m \u001B[38;5;28;01melse\u001B[39;00m:\n\u001B[0;32m   1128\u001B[0m     \u001B[38;5;66;03m# the behavior of a negative timeout isn't documented, but\u001B[39;00m\n\u001B[0;32m   1129\u001B[0m     \u001B[38;5;66;03m# historically .join(timeout=x) for x<0 has acted as if timeout=0\u001B[39;00m\n\u001B[0;32m   1130\u001B[0m     \u001B[38;5;28mself\u001B[39m\u001B[38;5;241m.\u001B[39m_wait_for_tstate_lock(timeout\u001B[38;5;241m=\u001B[39m\u001B[38;5;28mmax\u001B[39m(timeout, \u001B[38;5;241m0\u001B[39m))\n",
      "File \u001B[1;32m~\\AppData\\Local\\Programs\\Python\\Python312\\Lib\\threading.py:1146\u001B[0m, in \u001B[0;36mThread._wait_for_tstate_lock\u001B[1;34m(self, block, timeout)\u001B[0m\n\u001B[0;32m   1143\u001B[0m     \u001B[38;5;28;01mreturn\u001B[39;00m\n\u001B[0;32m   1145\u001B[0m \u001B[38;5;28;01mtry\u001B[39;00m:\n\u001B[1;32m-> 1146\u001B[0m     \u001B[38;5;28;01mif\u001B[39;00m \u001B[43mlock\u001B[49m\u001B[38;5;241;43m.\u001B[39;49m\u001B[43macquire\u001B[49m\u001B[43m(\u001B[49m\u001B[43mblock\u001B[49m\u001B[43m,\u001B[49m\u001B[43m \u001B[49m\u001B[43mtimeout\u001B[49m\u001B[43m)\u001B[49m:\n\u001B[0;32m   1147\u001B[0m         lock\u001B[38;5;241m.\u001B[39mrelease()\n\u001B[0;32m   1148\u001B[0m         \u001B[38;5;28mself\u001B[39m\u001B[38;5;241m.\u001B[39m_stop()\n",
      "\u001B[1;31mKeyboardInterrupt\u001B[0m: "
     ]
    }
   ],
   "execution_count": 48
  },
  {
   "metadata": {},
   "cell_type": "markdown",
   "source": "Verarbeitung von PDF-Dateien mit docTR:",
   "id": "3d3fe7a48973a065"
  },
  {
   "metadata": {
    "ExecuteTime": {
     "end_time": "2025-01-06T22:12:17.760820Z",
     "start_time": "2025-01-06T21:29:07.399342Z"
    }
   },
   "cell_type": "code",
   "source": [
    "# Iteriere über alle PDF-Dateien im Verzeichnis\n",
    "files = input_folder.rglob('*.pdf')\n",
    "\n",
    "for file in files:\n",
    "    # Lade das PDF-Dokument mit docTR\n",
    "    doc = DocumentFile.from_pdf(file)\n",
    "\n",
    "    # Verwende das OCR-Modell von docTR, um den Text zu extrahieren\n",
    "    result = ocr_model(doc)\n",
    "\n",
    "    # Extrahiere den Text aus dem Ergebnis\n",
    "    extracted_text = \"\"\n",
    "    for page in result.pages:\n",
    "        for block in page.blocks:\n",
    "            for line in block.lines:\n",
    "                for word in line.words:\n",
    "                    extracted_text += word.value + \" \"\n",
    "                extracted_text += \"\\n\"\n",
    "            extracted_text += \"\\n\"\n",
    "        extracted_text += \"\\n\"\n",
    "\n",
    "    # Speichere den extrahierten Text in einer .txt-Datei\n",
    "    output_file = Path(output_folder_docTR_txt) / file.name.replace('.pdf', '.txt')\n",
    "    with open(output_file, 'w', encoding='utf-8') as text_file:\n",
    "        text_file.write(extracted_text)\n",
    "\n",
    "    print(f\"Extrahierter Text gespeichert in {output_file}\")"
   ],
   "id": "b557b4cf337fec4a",
   "outputs": [
    {
     "name": "stdout",
     "output_type": "stream",
     "text": [
      "Extrahierter Text gespeichert in C:\\Users\\O6819\\Transferleistung6\\Output_OCT_txt_docTR\\A.txt\n",
      "Extrahierter Text gespeichert in C:\\Users\\O6819\\Transferleistung6\\Output_OCT_txt_docTR\\B.txt\n",
      "Extrahierter Text gespeichert in C:\\Users\\O6819\\Transferleistung6\\Output_OCT_txt_docTR\\C.txt\n",
      "Extrahierter Text gespeichert in C:\\Users\\O6819\\Transferleistung6\\Output_OCT_txt_docTR\\D.txt\n",
      "Extrahierter Text gespeichert in C:\\Users\\O6819\\Transferleistung6\\Output_OCT_txt_docTR\\E.txt\n",
      "Extrahierter Text gespeichert in C:\\Users\\O6819\\Transferleistung6\\Output_OCT_txt_docTR\\F.txt\n",
      "Extrahierter Text gespeichert in C:\\Users\\O6819\\Transferleistung6\\Output_OCT_txt_docTR\\G.txt\n",
      "Extrahierter Text gespeichert in C:\\Users\\O6819\\Transferleistung6\\Output_OCT_txt_docTR\\H.txt\n",
      "Extrahierter Text gespeichert in C:\\Users\\O6819\\Transferleistung6\\Output_OCT_txt_docTR\\I.txt\n",
      "Extrahierter Text gespeichert in C:\\Users\\O6819\\Transferleistung6\\Output_OCT_txt_docTR\\J.txt\n",
      "Extrahierter Text gespeichert in C:\\Users\\O6819\\Transferleistung6\\Output_OCT_txt_docTR\\K.txt\n",
      "Extrahierter Text gespeichert in C:\\Users\\O6819\\Transferleistung6\\Output_OCT_txt_docTR\\L.txt\n",
      "Extrahierter Text gespeichert in C:\\Users\\O6819\\Transferleistung6\\Output_OCT_txt_docTR\\M.txt\n",
      "Extrahierter Text gespeichert in C:\\Users\\O6819\\Transferleistung6\\Output_OCT_txt_docTR\\N.txt\n",
      "Extrahierter Text gespeichert in C:\\Users\\O6819\\Transferleistung6\\Output_OCT_txt_docTR\\O.txt\n"
     ]
    }
   ],
   "execution_count": 79
  },
  {
   "metadata": {},
   "cell_type": "markdown",
   "source": "Verarbeitung von PDF-Dateien mit EasyOCR:",
   "id": "a098768d5123418a"
  },
  {
   "metadata": {
    "ExecuteTime": {
     "end_time": "2024-12-10T10:25:46.872409Z",
     "start_time": "2024-12-10T10:18:13.959601Z"
    }
   },
   "cell_type": "code",
   "outputs": [
    {
     "name": "stdout",
     "output_type": "stream",
     "text": [
      "Extrahierter Text gespeichert in C:\\Users\\O6819\\Transferleistung6\\Output_OCR_txt_EasyOCR\\A.txt\n",
      "Extrahierter Text gespeichert in C:\\Users\\O6819\\Transferleistung6\\Output_OCR_txt_EasyOCR\\B.txt\n",
      "Extrahierter Text gespeichert in C:\\Users\\O6819\\Transferleistung6\\Output_OCR_txt_EasyOCR\\C.txt\n",
      "Extrahierter Text gespeichert in C:\\Users\\O6819\\Transferleistung6\\Output_OCR_txt_EasyOCR\\D.txt\n",
      "Extrahierter Text gespeichert in C:\\Users\\O6819\\Transferleistung6\\Output_OCR_txt_EasyOCR\\E.txt\n",
      "Extrahierter Text gespeichert in C:\\Users\\O6819\\Transferleistung6\\Output_OCR_txt_EasyOCR\\F.txt\n",
      "Extrahierter Text gespeichert in C:\\Users\\O6819\\Transferleistung6\\Output_OCR_txt_EasyOCR\\G.txt\n",
      "Extrahierter Text gespeichert in C:\\Users\\O6819\\Transferleistung6\\Output_OCR_txt_EasyOCR\\H.txt\n",
      "Extrahierter Text gespeichert in C:\\Users\\O6819\\Transferleistung6\\Output_OCR_txt_EasyOCR\\I.txt\n",
      "Extrahierter Text gespeichert in C:\\Users\\O6819\\Transferleistung6\\Output_OCR_txt_EasyOCR\\J.txt\n",
      "Extrahierter Text gespeichert in C:\\Users\\O6819\\Transferleistung6\\Output_OCR_txt_EasyOCR\\K.txt\n",
      "Extrahierter Text gespeichert in C:\\Users\\O6819\\Transferleistung6\\Output_OCR_txt_EasyOCR\\L.txt\n",
      "Extrahierter Text gespeichert in C:\\Users\\O6819\\Transferleistung6\\Output_OCR_txt_EasyOCR\\M.txt\n",
      "Extrahierter Text gespeichert in C:\\Users\\O6819\\Transferleistung6\\Output_OCR_txt_EasyOCR\\N.txt\n",
      "Extrahierter Text gespeichert in C:\\Users\\O6819\\Transferleistung6\\Output_OCR_txt_EasyOCR\\O.txt\n"
     ]
    }
   ],
   "execution_count": 42,
   "source": [
    "# Iteriere über alle PDF-Dateien im Verzeichnis\n",
    "files = input_folder.rglob('*.pdf')\n",
    "\n",
    "for file in files:\n",
    "    # Konvertiere PDF-Seiten in Bilder\n",
    "    images = convert_from_path(file, poppler_path=poppler_path)\n",
    "    extracted_text = \"\"\n",
    "\n",
    "    for image in images:\n",
    "        # Extrahiere Text aus jedem Bild mit EasyOCR\n",
    "        result = reader.readtext(np.array(image), detail=0)\n",
    "        extracted_text += \" \".join(result) + \"\\n\"\n",
    "\n",
    "    # Speichere den extrahierten Text in einer .txt-Datei\n",
    "    output_file = Path(output_folder_easyocr_txt) / file.name.replace('.pdf', '.txt')\n",
    "    with open(output_file, 'w', encoding='utf-8') as text_file:\n",
    "        text_file.write(extracted_text)\n",
    "\n",
    "    print(f\"Extrahierter Text gespeichert in {output_file}\")"
   ],
   "id": "8e059dfe19698660"
  },
  {
   "metadata": {},
   "cell_type": "markdown",
   "source": [
    "Bechnung der durchschnittlichen und Standardabweichung der Confidence-Werte für Tesseract\n",
    "\n",
    "Dieser Code verarbeitet PDF-Dateien, extrahiert Text mit Tesseract und berechnet den durchschnittlichen Confidence-Wert für jedes Dokument. Am Ende werden der Gesamtdurchschnitt und die Standardabweichung der Confidence-Werte über alle Dokumente berechnet und ausgegeben."
   ],
   "id": "a0b86ff94d80b624"
  },
  {
   "metadata": {
    "ExecuteTime": {
     "end_time": "2025-01-04T20:20:55.445289Z",
     "start_time": "2025-01-04T20:20:01.991205Z"
    },
    "tags": [
     "Correct"
    ]
   },
   "cell_type": "code",
   "source": [
    "import pytesseract\n",
    "from pdf2image import convert_from_path\n",
    "from pathlib import Path\n",
    "import numpy as np\n",
    "\n",
    "# Define the input folder and poppler path\n",
    "input_folder = Path(\"C:/Users/Transferleistung6/Input_PDF\")\n",
    "poppler_path = r'C:\\poppler-24.08.0\\Library\\bin'\n",
    "\n",
    "def calculate_tesseract_confidence(file_path, poppler_path):\n",
    "    images = convert_from_path(file_path, poppler_path=poppler_path)\n",
    "    file_confidences = []\n",
    "\n",
    "    for image in images:\n",
    "        data = pytesseract.image_to_data(image, lang='deu', output_type=pytesseract.Output.DICT)\n",
    "        confidences = [int(conf) for conf in data['conf'] if conf != -1]\n",
    "        file_confidences.extend(confidences)\n",
    "\n",
    "    if file_confidences:\n",
    "        average_confidence = np.mean(file_confidences)\n",
    "    else:\n",
    "        average_confidence = 0\n",
    "\n",
    "    return average_confidence, file_confidences\n",
    "\n",
    "# List to store average confidence values for each document\n",
    "confidence_values = []\n",
    "\n",
    "# Iterate over all PDF files in the directory\n",
    "files = input_folder.rglob('*.pdf')\n",
    "\n",
    "for file in files:\n",
    "    # Calculate the average confidence for the document\n",
    "    average_confidence, confidences = calculate_tesseract_confidence(file, poppler_path)\n",
    "    confidence_values.append(average_confidence)\n",
    "\n",
    "    # Print the confidence values for the file\n",
    "    print(f\"Average confidence for {file.name}: {average_confidence:.2f}\")\n",
    "\n",
    "# Calculate and print the overall average and standard deviation\n",
    "if confidence_values:\n",
    "    overall_average = np.mean(confidence_values)\n",
    "    overall_std_dev = np.std(confidence_values)\n",
    "    print(f\"\\nGesamtdurchschnittlicher Confidence-Wert: {overall_average:.2f}\")\n",
    "    print(f\"Gesamtstandardabweichung des Confidence-Werts: {overall_std_dev:.2f}\")\n",
    "else:\n",
    "    print(\"\\nKeine Dokumente gefunden oder keine Confidence-Werte berechnet.\")"
   ],
   "id": "d13bde621bf62f4a",
   "outputs": [
    {
     "name": "stdout",
     "output_type": "stream",
     "text": [
      "Average confidence for A.pdf: 90.61\n",
      "Average confidence for B.pdf: 86.78\n",
      "Average confidence for C.pdf: 83.36\n",
      "Average confidence for D.pdf: 85.73\n",
      "Average confidence for E.pdf: 83.56\n",
      "Average confidence for F.pdf: 82.90\n",
      "Average confidence for G.pdf: 73.50\n",
      "Average confidence for H.pdf: 73.17\n",
      "Average confidence for I.pdf: 65.60\n",
      "Average confidence for J.pdf: 81.49\n",
      "Average confidence for K.pdf: 86.13\n",
      "Average confidence for L.pdf: 86.93\n",
      "Average confidence for M.pdf: 84.58\n",
      "Average confidence for N.pdf: 87.30\n",
      "Average confidence for O.pdf: 86.87\n",
      "\n",
      "Gesamtdurchschnittlicher Confidence-Wert: 82.57\n",
      "Gesamtstandardabweichung des Confidence-Werts: 6.48\n"
     ]
    }
   ],
   "execution_count": 56
  },
  {
   "metadata": {},
   "cell_type": "markdown",
   "source": [
    "Bechnung der durchschnittlichen und Standardabweichung der Confidence-Werte für EasyOCR\n",
    "\n",
    "Dieser Code verarbeitet PDF-Dateien, extrahiert Text mit EasyOCR und berechnet den durchschnittlichen Confidence-Wert für jedes Dokument. Am Ende werden der Gesamtdurchschnitt und die Standardabweichung der Confidence-Werte über alle Dokumente berechnet und ausgegeben."
   ],
   "id": "2cb21356c58abe3b"
  },
  {
   "metadata": {
    "ExecuteTime": {
     "end_time": "2025-01-04T19:23:40.185857Z",
     "start_time": "2025-01-04T19:19:06.216172Z"
    },
    "tags": [
     "Correct"
    ]
   },
   "cell_type": "code",
   "outputs": [
    {
     "name": "stderr",
     "output_type": "stream",
     "text": [
      "WARNING:easyocr.easyocr:Neither CUDA nor MPS are available - defaulting to CPU. Note: This module is much faster with a GPU.\n"
     ]
    },
    {
     "name": "stdout",
     "output_type": "stream",
     "text": [
      "Durchschnittlicher Confidence-Wert für A.pdf: 0.88\n",
      "Durchschnittlicher Confidence-Wert für B.pdf: 0.62\n",
      "Durchschnittlicher Confidence-Wert für C.pdf: 0.81\n",
      "Durchschnittlicher Confidence-Wert für D.pdf: 0.87\n",
      "Durchschnittlicher Confidence-Wert für E.pdf: 0.85\n",
      "Durchschnittlicher Confidence-Wert für F.pdf: 0.79\n",
      "Durchschnittlicher Confidence-Wert für G.pdf: 0.66\n",
      "Durchschnittlicher Confidence-Wert für H.pdf: 0.69\n",
      "Durchschnittlicher Confidence-Wert für I.pdf: 0.47\n",
      "Durchschnittlicher Confidence-Wert für J.pdf: 0.81\n",
      "Durchschnittlicher Confidence-Wert für K.pdf: 0.84\n",
      "Durchschnittlicher Confidence-Wert für L.pdf: 0.80\n",
      "Durchschnittlicher Confidence-Wert für M.pdf: 0.85\n",
      "Durchschnittlicher Confidence-Wert für N.pdf: 0.87\n",
      "Durchschnittlicher Confidence-Wert für O.pdf: 0.82\n",
      "\n",
      "Gesamtdurchschnittlicher Confidence-Wert: 0.77\n",
      "Gesamtstandardabweichung des Confidence-Werts: 0.11\n"
     ]
    }
   ],
   "execution_count": 48,
   "source": [
    "from pathlib import Path\n",
    "import numpy as np\n",
    "from pdf2image import convert_from_path\n",
    "import easyocr\n",
    "\n",
    "# Define the input folder and poppler path\n",
    "input_folder = Path(\"C:/Users/O6819/Transferleistung6/Input_PDF\")\n",
    "poppler_path = r'C:\\poppler-24.08.0\\Library\\bin'\n",
    "\n",
    "# Create the reader for EasyOCR\n",
    "reader = easyocr.Reader(['de'])\n",
    "\n",
    "# List to store the average confidence values for each document\n",
    "confidence_values = []\n",
    "\n",
    "# Iterate over all PDF files in the directory\n",
    "files = input_folder.rglob('*.pdf')\n",
    "\n",
    "for file in files:\n",
    "    # Convert PDF pages to images\n",
    "    images = convert_from_path(file, poppler_path=poppler_path)\n",
    "    total_confidence = 0\n",
    "    total_words = 0\n",
    "\n",
    "    for image in images:\n",
    "        # Extract text from each image with EasyOCR and get the confidence value\n",
    "        results = reader.readtext(np.array(image), detail=1)\n",
    "\n",
    "        for result in results:\n",
    "            _, _, confidence = result\n",
    "            total_confidence += confidence\n",
    "            total_words += 1\n",
    "\n",
    "    if total_words > 0:\n",
    "        average_confidence = total_confidence / total_words\n",
    "    else:\n",
    "        average_confidence = 0\n",
    "\n",
    "    # Store the average confidence value for the document\n",
    "    confidence_values.append(average_confidence)\n",
    "\n",
    "    # Print the average confidence value for the file\n",
    "    print(f\"Durchschnittlicher Confidence-Wert für {file.name}: {average_confidence:.2f}\")\n",
    "\n",
    "# Calculate and print the overall average and standard deviation\n",
    "if confidence_values:\n",
    "    overall_average = np.mean(confidence_values)\n",
    "    overall_std_dev = np.std(confidence_values)\n",
    "    print(f\"\\nGesamtdurchschnittlicher Confidence-Wert: {overall_average:.2f}\")\n",
    "    print(f\"Gesamtstandardabweichung des Confidence-Werts: {overall_std_dev:.2f}\")\n",
    "else:\n",
    "    print(\"\\nKeine Dokumente gefunden oder keine Confidence-Werte berechnet.\")"
   ],
   "id": "8e54e8d62ffcbe70"
  },
  {
   "metadata": {},
   "cell_type": "markdown",
   "source": [
    "Bechnung der durchschnittlichen und Standardabweichung der Confidence-Werte für DocTR\n",
    "\n",
    "Dieser Code verarbeitet PDF-Dateien, extrahiert Text mit DocTR und berechnet den durchschnittlichen Confidence-Wert für jedes Dokument. Am Ende werden der Gesamtdurchschnitt und die Standardabweichung der Confidence-Werte über alle Dokumente berechnet und ausgegeben."
   ],
   "id": "98e52da9269d6d25"
  },
  {
   "metadata": {
    "ExecuteTime": {
     "end_time": "2025-01-04T21:01:16.257404Z",
     "start_time": "2025-01-04T20:33:42.571677Z"
    },
    "tags": [
     "Correct"
    ]
   },
   "cell_type": "code",
   "source": [
    "from pathlib import Path\n",
    "import numpy as np\n",
    "import doctr\n",
    "from doctr.io import DocumentFile\n",
    "from doctr.models import ocr_predictor\n",
    "\n",
    "# Define the input folder\n",
    "input_folder = Path(\"C:/Users/O6819/Transferleistung6/Input_PDF\")\n",
    "\n",
    "def calculate_docTR_confidence(result):\n",
    "\n",
    "    all_confidences = [word.confidence for page in result.pages for block in page.blocks for line in block.lines for word in line.words]\n",
    "    return np.mean(all_confidences) if all_confidences else 0\n",
    "\n",
    "# List to store the average confidence values for each document\n",
    "confidence_values = []\n",
    "\n",
    "# Iterate over all PDF files in the directory\n",
    "files = input_folder.rglob('*.pdf')\n",
    "\n",
    "for file in files:\n",
    "    # Load the PDF document with docTR\n",
    "    doc = DocumentFile.from_pdf(file)\n",
    "\n",
    "    # Use the OCR model from docTR to extract text\n",
    "    result = ocr_model(doc)\n",
    "\n",
    "    # Calculate the average confidence for the document\n",
    "    average_confidence = calculate_docTR_confidence(result)\n",
    "    confidence_values.append(average_confidence)\n",
    "\n",
    "    # Print the average confidence value for the file\n",
    "    print(f\"Durchschnittlicher Confidence-Wert für {file.name}: {average_confidence:.2f}\")\n",
    "\n",
    "# Calculate and print the overall average and standard deviation\n",
    "if confidence_values:\n",
    "    overall_average = np.mean(confidence_values)\n",
    "    overall_std_dev = np.std(confidence_values)\n",
    "    print(f\"\\nGesamtdurchschnittlicher Confidence-Wert: {overall_average:.2f}\")\n",
    "    print(f\"Gesamtstandardabweichung des Confidence-Werts: {overall_std_dev:.2f}\")\n",
    "else:\n",
    "    print(\"\\nKeine Dokumente gefunden oder keine Confidence-Werte berechnet.\")"
   ],
   "id": "4a865940a5c360bc",
   "outputs": [
    {
     "name": "stdout",
     "output_type": "stream",
     "text": [
      "Durchschnittlicher Confidence-Wert für A.pdf: 0.93\n",
      "Durchschnittlicher Confidence-Wert für B.pdf: 0.92\n",
      "Durchschnittlicher Confidence-Wert für C.pdf: 0.90\n",
      "Durchschnittlicher Confidence-Wert für D.pdf: 0.93\n",
      "Durchschnittlicher Confidence-Wert für E.pdf: 0.91\n",
      "Durchschnittlicher Confidence-Wert für F.pdf: 0.92\n",
      "Durchschnittlicher Confidence-Wert für G.pdf: 0.88\n",
      "Durchschnittlicher Confidence-Wert für H.pdf: 0.90\n",
      "Durchschnittlicher Confidence-Wert für I.pdf: 0.88\n",
      "Durchschnittlicher Confidence-Wert für J.pdf: 0.89\n",
      "Durchschnittlicher Confidence-Wert für K.pdf: 0.92\n",
      "Durchschnittlicher Confidence-Wert für L.pdf: 0.93\n",
      "Durchschnittlicher Confidence-Wert für M.pdf: 0.92\n",
      "Durchschnittlicher Confidence-Wert für N.pdf: 0.92\n",
      "Durchschnittlicher Confidence-Wert für O.pdf: 0.92\n",
      "\n",
      "Gesamtdurchschnittlicher Confidence-Wert: 0.91\n",
      "Gesamtstandardabweichung des Confidence-Werts: 0.02\n"
     ]
    }
   ],
   "execution_count": 59
  },
  {
   "metadata": {},
   "cell_type": "markdown",
   "source": "Berechnung der CER, WER und MER Fehlerquoten basierend auf Morris et al. (2004). Dieser Code nimmt einen Referenzordner, der die Ground Truth enthält, und einen Ausgabeordner, der den Output eines OCR-Anbieters enthält. Die Fehlerquoten WER (Word Error Rate), CER (Character Error Rate) und MER (Match Error Rate) werden für jede Datei berechnet und ausgegeben. Am Ende werden der Gesamtdurchschnitt und die Standardabweichung der Fehlerquoten über alle Dateien berechnet und ausgegeben.",
   "id": "db85a502f09e8b48"
  },
  {
   "metadata": {
    "ExecuteTime": {
     "end_time": "2025-01-05T16:51:37.633842Z",
     "start_time": "2025-01-05T16:51:37.529341Z"
    }
   },
   "cell_type": "code",
   "source": [
    "import os\n",
    "from pathlib import Path\n",
    "import jiwer\n",
    "from jiwer import wer, cer, mer\n",
    "import numpy as np\n",
    "\n",
    "def compare_ocr_results(ground_truth_folder, ocr_results_folder):\n",
    "    ground_truth_folder = Path(ground_truth_folder)\n",
    "    ocr_results_folder = Path(ocr_results_folder)\n",
    "\n",
    "    wer_values = []\n",
    "    cer_values = []\n",
    "    mer_values = []\n",
    "\n",
    "    for gt_file in ground_truth_folder.glob(\"*.txt\"):\n",
    "        ocr_file = ocr_results_folder / gt_file.name\n",
    "        if ocr_file.exists():\n",
    "            with open(gt_file, 'r', encoding='utf-8') as gt, open(ocr_file, 'r', encoding='utf-8') as ocr:\n",
    "                ground_truth = gt.read()\n",
    "                ocr_result = ocr.read()\n",
    "\n",
    "                error_wer = wer(ground_truth, ocr_result) * 100\n",
    "                error_cer = cer(ground_truth, ocr_result) * 100\n",
    "                error_mer = mer(ground_truth, ocr_result) * 100\n",
    "\n",
    "                wer_values.append(error_wer)\n",
    "                cer_values.append(error_cer)\n",
    "                mer_values.append(error_mer)\n",
    "\n",
    "                print(f\"File: {gt_file.name}\")\n",
    "                print(f\"Character Error Rate (CER): {error_cer:.2f}\")\n",
    "                print(f\"Word Error Rate (WER): {error_wer:.2f}\")\n",
    "                print(f\"Match Error Rate (MER): {error_mer:.2f}\")\n",
    "                print(\"-\" * 40)\n",
    "        else:\n",
    "            print(f\"File {gt_file.name} not found in OCR results folder.\")\n",
    "            print(\"-\" * 40)\n",
    "\n",
    "    # Calculate and print the overall average and standard deviation for WER, CER, and MER\n",
    "    if cer_values:\n",
    "        overall_cer_avg = np.mean(cer_values)\n",
    "        overall_cer_std = np.std(cer_values)\n",
    "        print(f\"\\nGesamtdurchschnittlicher CER: {overall_cer_avg:.2f}\")\n",
    "        print(f\"Gesamtstandardabweichung des CER: {overall_cer_std:.2f}\")\n",
    "    else:\n",
    "        print(\"\\nKeine CER-Werte berechnet.\")\n",
    "\n",
    "    if wer_values:\n",
    "        overall_wer_avg = np.mean(wer_values)\n",
    "        overall_wer_std = np.std(wer_values)\n",
    "        print(f\"\\nGesamtdurchschnittlicher WER: {overall_wer_avg:.2f}\")\n",
    "        print(f\"Gesamtstandardabweichung des WER: {overall_wer_std:.2f}\")\n",
    "    else:\n",
    "        print(\"\\nKeine WER-Werte berechnet.\")\n",
    "\n",
    "    if mer_values:\n",
    "        overall_mer_avg = np.mean(mer_values)\n",
    "        overall_mer_std = np.std(mer_values)\n",
    "        print(f\"\\nGesamtdurchschnittlicher MER: {overall_mer_avg:.2f}\")\n",
    "        print(f\"Gesamtstandardabweichung des MER: {overall_mer_std:.2f}\")\n",
    "    else:\n",
    "        print(\"\\nKeine MER-Werte berechnet.\")\n",
    "\n",
    "# Example usage\n",
    "ground_truth_folder = \"C:/Users/Transferleistung6/Ground Truth_txt\"\n",
    "ocr_results_folder = \"C:/Users/ransferleistung6/Output_OCR_txt_EasyOCR\"\n",
    "compare_ocr_results(ground_truth_folder, ocr_results_folder)"
   ],
   "id": "963a53317b803ad9",
   "outputs": [
    {
     "name": "stdout",
     "output_type": "stream",
     "text": [
      "File: A.txt\n",
      "Character Error Rate (CER): 6.78\n",
      "Word Error Rate (WER): 25.09\n",
      "Match Error Rate (MER): 23.49\n",
      "----------------------------------------\n",
      "File: B.txt\n",
      "Character Error Rate (CER): 42.07\n",
      "Word Error Rate (WER): 76.32\n",
      "Match Error Rate (MER): 49.15\n",
      "----------------------------------------\n",
      "File: C.txt\n",
      "Character Error Rate (CER): 15.00\n",
      "Word Error Rate (WER): 37.46\n",
      "Match Error Rate (MER): 35.22\n",
      "----------------------------------------\n",
      "File: D.txt\n",
      "Character Error Rate (CER): 39.21\n",
      "Word Error Rate (WER): 62.88\n",
      "Match Error Rate (MER): 51.49\n",
      "----------------------------------------\n",
      "File: E.txt\n",
      "Character Error Rate (CER): 18.79\n",
      "Word Error Rate (WER): 49.41\n",
      "Match Error Rate (MER): 43.06\n",
      "----------------------------------------\n",
      "File: F.txt\n",
      "Character Error Rate (CER): 45.12\n",
      "Word Error Rate (WER): 80.67\n",
      "Match Error Rate (MER): 56.32\n",
      "----------------------------------------\n",
      "File: G.txt\n",
      "Character Error Rate (CER): 24.06\n",
      "Word Error Rate (WER): 66.27\n",
      "Match Error Rate (MER): 62.22\n",
      "----------------------------------------\n",
      "File: H.txt\n",
      "Character Error Rate (CER): 21.18\n",
      "Word Error Rate (WER): 65.99\n",
      "Match Error Rate (MER): 60.82\n",
      "----------------------------------------\n",
      "File: I.txt\n",
      "Character Error Rate (CER): 40.58\n",
      "Word Error Rate (WER): 87.20\n",
      "Match Error Rate (MER): 82.60\n",
      "----------------------------------------\n",
      "File: J.txt\n",
      "Character Error Rate (CER): 18.25\n",
      "Word Error Rate (WER): 53.35\n",
      "Match Error Rate (MER): 49.02\n",
      "----------------------------------------\n",
      "File: K.txt\n",
      "Character Error Rate (CER): 15.88\n",
      "Word Error Rate (WER): 34.19\n",
      "Match Error Rate (MER): 31.37\n",
      "----------------------------------------\n",
      "File: L.txt\n",
      "Character Error Rate (CER): 23.51\n",
      "Word Error Rate (WER): 35.68\n",
      "Match Error Rate (MER): 30.92\n",
      "----------------------------------------\n",
      "File: M.txt\n",
      "Character Error Rate (CER): 23.45\n",
      "Word Error Rate (WER): 34.73\n",
      "Match Error Rate (MER): 31.23\n",
      "----------------------------------------\n",
      "File: N.txt\n",
      "Character Error Rate (CER): 22.27\n",
      "Word Error Rate (WER): 36.18\n",
      "Match Error Rate (MER): 32.23\n",
      "----------------------------------------\n",
      "File: O.txt\n",
      "Character Error Rate (CER): 22.05\n",
      "Word Error Rate (WER): 35.75\n",
      "Match Error Rate (MER): 30.50\n",
      "----------------------------------------\n",
      "\n",
      "Gesamtdurchschnittlicher CER: 25.21\n",
      "Gesamtstandardabweichung des CER: 10.88\n",
      "\n",
      "Gesamtdurchschnittlicher WER: 52.08\n",
      "Gesamtstandardabweichung des WER: 19.17\n",
      "\n",
      "Gesamtdurchschnittlicher MER: 44.64\n",
      "Gesamtstandardabweichung des MER: 15.64\n"
     ]
    }
   ],
   "execution_count": 78
  }
 ],
 "metadata": {
  "kernelspec": {
   "display_name": "Python 3",
   "language": "python",
   "name": "python3"
  },
  "language_info": {
   "codemirror_mode": {
    "name": "ipython",
    "version": 2
   },
   "file_extension": ".py",
   "mimetype": "text/x-python",
   "name": "python",
   "nbconvert_exporter": "python",
   "pygments_lexer": "ipython2",
   "version": "2.7.6"
  }
 },
 "nbformat": 4,
 "nbformat_minor": 5
}
